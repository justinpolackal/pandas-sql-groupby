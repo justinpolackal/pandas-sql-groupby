{
 "cells": [
  {
   "cell_type": "markdown",
   "metadata": {},
   "source": [
    "# Pandas Groupby compared to SQL"
   ]
  },
  {
   "cell_type": "markdown",
   "metadata": {},
   "source": [
    "Pandas Dataframes ar very versatile, in terms of their capability to manipulate, reshape and munge data. The most important feature of a DataFrame is its capability to aggregate data. \n",
    "\n",
    "Most often, the aggregation capability is compared to the GROUP BY facility in SQL. However, there are fine differences between how SQL GROUP BY and groupby() in Pandas DataFrame operates. \n",
    "\n",
    "We will look at following SQL features and equivalent pandas way of achieving the same.\n",
    "* GROUP BY & Aggregation \n",
    "* Count of grouped records\n",
    "* HAVING clause\n",
    "\n",
    "We have a pandas DataFrame, with countries, cities, their temperatures and relative humidities. The same data I have it in a MySQL table, named city_weather."
   ]
  },
  {
   "cell_type": "code",
   "execution_count": 1,
   "metadata": {},
   "outputs": [],
   "source": [
    "import pandas as pd\n",
    "import numpy as np"
   ]
  },
  {
   "cell_type": "code",
   "execution_count": 2,
   "metadata": {
    "scrolled": true
   },
   "outputs": [
    {
     "data": {
      "text/html": [
       "<div>\n",
       "<style scoped>\n",
       "    .dataframe tbody tr th:only-of-type {\n",
       "        vertical-align: middle;\n",
       "    }\n",
       "\n",
       "    .dataframe tbody tr th {\n",
       "        vertical-align: top;\n",
       "    }\n",
       "\n",
       "    .dataframe thead th {\n",
       "        text-align: right;\n",
       "    }\n",
       "</style>\n",
       "<table border=\"1\" class=\"dataframe\">\n",
       "  <thead>\n",
       "    <tr style=\"text-align: right;\">\n",
       "      <th></th>\n",
       "      <th>city</th>\n",
       "      <th>country</th>\n",
       "      <th>humidity</th>\n",
       "      <th>temperature</th>\n",
       "    </tr>\n",
       "  </thead>\n",
       "  <tbody>\n",
       "    <tr>\n",
       "      <th>0</th>\n",
       "      <td>Delhi</td>\n",
       "      <td>India</td>\n",
       "      <td>12</td>\n",
       "      <td>40</td>\n",
       "    </tr>\n",
       "    <tr>\n",
       "      <th>1</th>\n",
       "      <td>Bangalore</td>\n",
       "      <td>India</td>\n",
       "      <td>63</td>\n",
       "      <td>29</td>\n",
       "    </tr>\n",
       "    <tr>\n",
       "      <th>2</th>\n",
       "      <td>Mumbai</td>\n",
       "      <td>India</td>\n",
       "      <td>61</td>\n",
       "      <td>33</td>\n",
       "    </tr>\n",
       "    <tr>\n",
       "      <th>3</th>\n",
       "      <td>New York</td>\n",
       "      <td>North America</td>\n",
       "      <td>55</td>\n",
       "      <td>21</td>\n",
       "    </tr>\n",
       "    <tr>\n",
       "      <th>4</th>\n",
       "      <td>Chicago</td>\n",
       "      <td>North America</td>\n",
       "      <td>69</td>\n",
       "      <td>17</td>\n",
       "    </tr>\n",
       "    <tr>\n",
       "      <th>5</th>\n",
       "      <td>London</td>\n",
       "      <td>United Kingdom</td>\n",
       "      <td>88</td>\n",
       "      <td>12</td>\n",
       "    </tr>\n",
       "    <tr>\n",
       "      <th>6</th>\n",
       "      <td>Moscow</td>\n",
       "      <td>Russia</td>\n",
       "      <td>56</td>\n",
       "      <td>19</td>\n",
       "    </tr>\n",
       "    <tr>\n",
       "      <th>7</th>\n",
       "      <td>Samara</td>\n",
       "      <td>Russia</td>\n",
       "      <td>41</td>\n",
       "      <td>24</td>\n",
       "    </tr>\n",
       "    <tr>\n",
       "      <th>8</th>\n",
       "      <td>Sao Paulo</td>\n",
       "      <td>Brazil</td>\n",
       "      <td>85</td>\n",
       "      <td>14</td>\n",
       "    </tr>\n",
       "    <tr>\n",
       "      <th>9</th>\n",
       "      <td>Rio de Janeiro</td>\n",
       "      <td>Brazil</td>\n",
       "      <td>90</td>\n",
       "      <td>19</td>\n",
       "    </tr>\n",
       "    <tr>\n",
       "      <th>10</th>\n",
       "      <td>Berlin</td>\n",
       "      <td>Germany</td>\n",
       "      <td>62</td>\n",
       "      <td>17</td>\n",
       "    </tr>\n",
       "    <tr>\n",
       "      <th>11</th>\n",
       "      <td>Hamburg</td>\n",
       "      <td>Germany</td>\n",
       "      <td>58</td>\n",
       "      <td>16</td>\n",
       "    </tr>\n",
       "    <tr>\n",
       "      <th>12</th>\n",
       "      <td>Munich</td>\n",
       "      <td>Germany</td>\n",
       "      <td>90</td>\n",
       "      <td>15</td>\n",
       "    </tr>\n",
       "    <tr>\n",
       "      <th>13</th>\n",
       "      <td>Warsaw</td>\n",
       "      <td>Poland</td>\n",
       "      <td>66</td>\n",
       "      <td>17</td>\n",
       "    </tr>\n",
       "  </tbody>\n",
       "</table>\n",
       "</div>"
      ],
      "text/plain": [
       "              city         country  humidity  temperature\n",
       "0            Delhi           India        12           40\n",
       "1        Bangalore           India        63           29\n",
       "2           Mumbai           India        61           33\n",
       "3         New York   North America        55           21\n",
       "4          Chicago   North America        69           17\n",
       "5           London  United Kingdom        88           12\n",
       "6           Moscow          Russia        56           19\n",
       "7           Samara          Russia        41           24\n",
       "8        Sao Paulo          Brazil        85           14\n",
       "9   Rio de Janeiro          Brazil        90           19\n",
       "10          Berlin         Germany        62           17\n",
       "11         Hamburg         Germany        58           16\n",
       "12          Munich         Germany        90           15\n",
       "13          Warsaw          Poland        66           17"
      ]
     },
     "execution_count": 2,
     "metadata": {},
     "output_type": "execute_result"
    }
   ],
   "source": [
    "df = pd.DataFrame({'country' : ['India','India','India', 'North America', 'North America', 'United Kingdom', 'Russia','Russia', 'Brazil','Brazil', 'Germany', 'Germany','Germany','Poland'],\n",
    "                   'city' : ['Delhi', 'Bangalore', 'Mumbai', 'New York', 'Chicago', 'London', 'Moscow', 'Samara','Sao Paulo','Rio de Janeiro','Berlin','Hamburg','Munich','Warsaw'],\n",
    "                   'temperature' : [40,29,33,21,17,12,19,24,14,19,17,16,15,17],\n",
    "                   'humidity' : [12,63,61,55,69,88,56,41,85,90,62,58,90,66]})\n",
    "df"
   ]
  },
  {
   "cell_type": "markdown",
   "metadata": {},
   "source": [
    "## Simple Group By and Aggregation"
   ]
  },
  {
   "cell_type": "markdown",
   "metadata": {},
   "source": [
    "Suppose say, I want to find the lowest temperature for each country:\n",
    "\n",
    "In SQL, we would write:"
   ]
  },
  {
   "cell_type": "code",
   "execution_count": null,
   "metadata": {},
   "outputs": [],
   "source": [
    "mysql> SELECT country, min(temperature) as mintemp from city_weather GROUP BY country;\n",
    "+----------------+---------+\n",
    "| country        | mintemp |\n",
    "+----------------+---------+\n",
    "| Brazil         |      14 |\n",
    "| Germany        |      15 |\n",
    "| India          |      29 |\n",
    "| North America  |      17 |\n",
    "| Poland         |      17 |\n",
    "| Russia         |      19 |\n",
    "| United Kingdom |      12 |\n",
    "+----------------+---------+\n",
    "7 rows in set (0.00 sec)"
   ]
  },
  {
   "cell_type": "markdown",
   "metadata": {},
   "source": [
    "The *min()* function is an aggregation and *group by* is the SQL operator for grouping. After forming groups of records for each country, it finds the minimum temperature for each group and prints the grouping keys and the aggregated values.\n",
    "\n",
    "In SQL, applying *group by* and applying aggregation function on selected columns happen as a single operation. If a group by is applied, then any column in the *select* list must either be part of the *group by* clause or must be aggregated using aggregation functions like count(), sum(), avg() etc.\n",
    "\n",
    "Let's do the same in Pandas:"
   ]
  },
  {
   "cell_type": "code",
   "execution_count": 3,
   "metadata": {},
   "outputs": [
    {
     "data": {
      "text/plain": [
       "country\n",
       "Brazil            14\n",
       "Germany           15\n",
       "India             29\n",
       "North America     17\n",
       "Poland            17\n",
       "Russia            19\n",
       "United Kingdom    12\n",
       "Name: temperature, dtype: int64"
      ]
     },
     "execution_count": 3,
     "metadata": {},
     "output_type": "execute_result"
    }
   ],
   "source": [
    "grp=df.groupby('country')\n",
    "\n",
    "grp['temperature'].min()"
   ]
  },
  {
   "cell_type": "markdown",
   "metadata": {},
   "source": [
    "Dataframe.groupby() function returns a **DataFrameGroupBy** object. Here we did the grouping based on country column. "
   ]
  },
  {
   "cell_type": "markdown",
   "metadata": {},
   "source": [
    "The groupby operation works a little bit different here compared to SQL. The given key value (in this case, country) is used to split the original dataframe into groups. \n",
    "\n",
    "The grp object contains as many groups as there are unique country names. Each group is named after the key value that was used to split the original DataFrame.\n",
    "\n",
    "In this example, groups will be named after the country names. (see below). The groups object can be visualised as a dictionary, having groupnames as keys. The value corresponding to key is a list of indices pointing to the set of rows that fall under that group."
   ]
  },
  {
   "cell_type": "code",
   "execution_count": 4,
   "metadata": {},
   "outputs": [
    {
     "data": {
      "text/plain": [
       "{'Brazil': Int64Index([8, 9], dtype='int64'),\n",
       " 'Germany': Int64Index([10, 11, 12], dtype='int64'),\n",
       " 'India': Int64Index([0, 1, 2], dtype='int64'),\n",
       " 'North America': Int64Index([3, 4], dtype='int64'),\n",
       " 'Poland': Int64Index([13], dtype='int64'),\n",
       " 'Russia': Int64Index([6, 7], dtype='int64'),\n",
       " 'United Kingdom': Int64Index([5], dtype='int64')}"
      ]
     },
     "execution_count": 4,
     "metadata": {},
     "output_type": "execute_result"
    }
   ],
   "source": [
    "grp.groups"
   ]
  },
  {
   "cell_type": "markdown",
   "metadata": {},
   "source": [
    "\n",
    "See the *describe()* output of *grp*. The summary is for each group."
   ]
  },
  {
   "cell_type": "code",
   "execution_count": 5,
   "metadata": {},
   "outputs": [
    {
     "data": {
      "text/html": [
       "<div>\n",
       "<style scoped>\n",
       "    .dataframe tbody tr th:only-of-type {\n",
       "        vertical-align: middle;\n",
       "    }\n",
       "\n",
       "    .dataframe tbody tr th {\n",
       "        vertical-align: top;\n",
       "    }\n",
       "\n",
       "    .dataframe thead tr th {\n",
       "        text-align: left;\n",
       "    }\n",
       "\n",
       "    .dataframe thead tr:last-of-type th {\n",
       "        text-align: right;\n",
       "    }\n",
       "</style>\n",
       "<table border=\"1\" class=\"dataframe\">\n",
       "  <thead>\n",
       "    <tr>\n",
       "      <th></th>\n",
       "      <th colspan=\"8\" halign=\"left\">humidity</th>\n",
       "      <th colspan=\"8\" halign=\"left\">temperature</th>\n",
       "    </tr>\n",
       "    <tr>\n",
       "      <th></th>\n",
       "      <th>count</th>\n",
       "      <th>mean</th>\n",
       "      <th>std</th>\n",
       "      <th>min</th>\n",
       "      <th>25%</th>\n",
       "      <th>50%</th>\n",
       "      <th>75%</th>\n",
       "      <th>max</th>\n",
       "      <th>count</th>\n",
       "      <th>mean</th>\n",
       "      <th>std</th>\n",
       "      <th>min</th>\n",
       "      <th>25%</th>\n",
       "      <th>50%</th>\n",
       "      <th>75%</th>\n",
       "      <th>max</th>\n",
       "    </tr>\n",
       "    <tr>\n",
       "      <th>country</th>\n",
       "      <th></th>\n",
       "      <th></th>\n",
       "      <th></th>\n",
       "      <th></th>\n",
       "      <th></th>\n",
       "      <th></th>\n",
       "      <th></th>\n",
       "      <th></th>\n",
       "      <th></th>\n",
       "      <th></th>\n",
       "      <th></th>\n",
       "      <th></th>\n",
       "      <th></th>\n",
       "      <th></th>\n",
       "      <th></th>\n",
       "      <th></th>\n",
       "    </tr>\n",
       "  </thead>\n",
       "  <tbody>\n",
       "    <tr>\n",
       "      <th>Brazil</th>\n",
       "      <td>2.0</td>\n",
       "      <td>87.500000</td>\n",
       "      <td>3.535534</td>\n",
       "      <td>85.0</td>\n",
       "      <td>86.25</td>\n",
       "      <td>87.5</td>\n",
       "      <td>88.75</td>\n",
       "      <td>90.0</td>\n",
       "      <td>2.0</td>\n",
       "      <td>16.5</td>\n",
       "      <td>3.535534</td>\n",
       "      <td>14.0</td>\n",
       "      <td>15.25</td>\n",
       "      <td>16.5</td>\n",
       "      <td>17.75</td>\n",
       "      <td>19.0</td>\n",
       "    </tr>\n",
       "    <tr>\n",
       "      <th>Germany</th>\n",
       "      <td>3.0</td>\n",
       "      <td>70.000000</td>\n",
       "      <td>17.435596</td>\n",
       "      <td>58.0</td>\n",
       "      <td>60.00</td>\n",
       "      <td>62.0</td>\n",
       "      <td>76.00</td>\n",
       "      <td>90.0</td>\n",
       "      <td>3.0</td>\n",
       "      <td>16.0</td>\n",
       "      <td>1.000000</td>\n",
       "      <td>15.0</td>\n",
       "      <td>15.50</td>\n",
       "      <td>16.0</td>\n",
       "      <td>16.50</td>\n",
       "      <td>17.0</td>\n",
       "    </tr>\n",
       "    <tr>\n",
       "      <th>India</th>\n",
       "      <td>3.0</td>\n",
       "      <td>45.333333</td>\n",
       "      <td>28.884829</td>\n",
       "      <td>12.0</td>\n",
       "      <td>36.50</td>\n",
       "      <td>61.0</td>\n",
       "      <td>62.00</td>\n",
       "      <td>63.0</td>\n",
       "      <td>3.0</td>\n",
       "      <td>34.0</td>\n",
       "      <td>5.567764</td>\n",
       "      <td>29.0</td>\n",
       "      <td>31.00</td>\n",
       "      <td>33.0</td>\n",
       "      <td>36.50</td>\n",
       "      <td>40.0</td>\n",
       "    </tr>\n",
       "    <tr>\n",
       "      <th>North America</th>\n",
       "      <td>2.0</td>\n",
       "      <td>62.000000</td>\n",
       "      <td>9.899495</td>\n",
       "      <td>55.0</td>\n",
       "      <td>58.50</td>\n",
       "      <td>62.0</td>\n",
       "      <td>65.50</td>\n",
       "      <td>69.0</td>\n",
       "      <td>2.0</td>\n",
       "      <td>19.0</td>\n",
       "      <td>2.828427</td>\n",
       "      <td>17.0</td>\n",
       "      <td>18.00</td>\n",
       "      <td>19.0</td>\n",
       "      <td>20.00</td>\n",
       "      <td>21.0</td>\n",
       "    </tr>\n",
       "    <tr>\n",
       "      <th>Poland</th>\n",
       "      <td>1.0</td>\n",
       "      <td>66.000000</td>\n",
       "      <td>NaN</td>\n",
       "      <td>66.0</td>\n",
       "      <td>66.00</td>\n",
       "      <td>66.0</td>\n",
       "      <td>66.00</td>\n",
       "      <td>66.0</td>\n",
       "      <td>1.0</td>\n",
       "      <td>17.0</td>\n",
       "      <td>NaN</td>\n",
       "      <td>17.0</td>\n",
       "      <td>17.00</td>\n",
       "      <td>17.0</td>\n",
       "      <td>17.00</td>\n",
       "      <td>17.0</td>\n",
       "    </tr>\n",
       "    <tr>\n",
       "      <th>Russia</th>\n",
       "      <td>2.0</td>\n",
       "      <td>48.500000</td>\n",
       "      <td>10.606602</td>\n",
       "      <td>41.0</td>\n",
       "      <td>44.75</td>\n",
       "      <td>48.5</td>\n",
       "      <td>52.25</td>\n",
       "      <td>56.0</td>\n",
       "      <td>2.0</td>\n",
       "      <td>21.5</td>\n",
       "      <td>3.535534</td>\n",
       "      <td>19.0</td>\n",
       "      <td>20.25</td>\n",
       "      <td>21.5</td>\n",
       "      <td>22.75</td>\n",
       "      <td>24.0</td>\n",
       "    </tr>\n",
       "    <tr>\n",
       "      <th>United Kingdom</th>\n",
       "      <td>1.0</td>\n",
       "      <td>88.000000</td>\n",
       "      <td>NaN</td>\n",
       "      <td>88.0</td>\n",
       "      <td>88.00</td>\n",
       "      <td>88.0</td>\n",
       "      <td>88.00</td>\n",
       "      <td>88.0</td>\n",
       "      <td>1.0</td>\n",
       "      <td>12.0</td>\n",
       "      <td>NaN</td>\n",
       "      <td>12.0</td>\n",
       "      <td>12.00</td>\n",
       "      <td>12.0</td>\n",
       "      <td>12.00</td>\n",
       "      <td>12.0</td>\n",
       "    </tr>\n",
       "  </tbody>\n",
       "</table>\n",
       "</div>"
      ],
      "text/plain": [
       "               humidity                                                        \\\n",
       "                  count       mean        std   min    25%   50%    75%   max   \n",
       "country                                                                         \n",
       "Brazil              2.0  87.500000   3.535534  85.0  86.25  87.5  88.75  90.0   \n",
       "Germany             3.0  70.000000  17.435596  58.0  60.00  62.0  76.00  90.0   \n",
       "India               3.0  45.333333  28.884829  12.0  36.50  61.0  62.00  63.0   \n",
       "North America       2.0  62.000000   9.899495  55.0  58.50  62.0  65.50  69.0   \n",
       "Poland              1.0  66.000000        NaN  66.0  66.00  66.0  66.00  66.0   \n",
       "Russia              2.0  48.500000  10.606602  41.0  44.75  48.5  52.25  56.0   \n",
       "United Kingdom      1.0  88.000000        NaN  88.0  88.00  88.0  88.00  88.0   \n",
       "\n",
       "               temperature                                                  \n",
       "                     count  mean       std   min    25%   50%    75%   max  \n",
       "country                                                                     \n",
       "Brazil                 2.0  16.5  3.535534  14.0  15.25  16.5  17.75  19.0  \n",
       "Germany                3.0  16.0  1.000000  15.0  15.50  16.0  16.50  17.0  \n",
       "India                  3.0  34.0  5.567764  29.0  31.00  33.0  36.50  40.0  \n",
       "North America          2.0  19.0  2.828427  17.0  18.00  19.0  20.00  21.0  \n",
       "Poland                 1.0  17.0       NaN  17.0  17.00  17.0  17.00  17.0  \n",
       "Russia                 2.0  21.5  3.535534  19.0  20.25  21.5  22.75  24.0  \n",
       "United Kingdom         1.0  12.0       NaN  12.0  12.00  12.0  12.00  12.0  "
      ]
     },
     "execution_count": 5,
     "metadata": {},
     "output_type": "execute_result"
    }
   ],
   "source": [
    "grp.describe()"
   ]
  },
  {
   "cell_type": "markdown",
   "metadata": {},
   "source": [
    "Now lets print each group"
   ]
  },
  {
   "cell_type": "code",
   "execution_count": 6,
   "metadata": {},
   "outputs": [
    {
     "name": "stdout",
     "output_type": "stream",
     "text": [
      "Brazil\n",
      "             city country  humidity  temperature\n",
      "8       Sao Paulo  Brazil        85           14\n",
      "9  Rio de Janeiro  Brazil        90           19\n",
      "Germany\n",
      "       city  country  humidity  temperature\n",
      "10   Berlin  Germany        62           17\n",
      "11  Hamburg  Germany        58           16\n",
      "12   Munich  Germany        90           15\n",
      "India\n",
      "        city country  humidity  temperature\n",
      "0      Delhi   India        12           40\n",
      "1  Bangalore   India        63           29\n",
      "2     Mumbai   India        61           33\n",
      "North America\n",
      "       city        country  humidity  temperature\n",
      "3  New York  North America        55           21\n",
      "4   Chicago  North America        69           17\n",
      "Poland\n",
      "      city country  humidity  temperature\n",
      "13  Warsaw  Poland        66           17\n",
      "Russia\n",
      "     city country  humidity  temperature\n",
      "6  Moscow  Russia        56           19\n",
      "7  Samara  Russia        41           24\n",
      "United Kingdom\n",
      "     city         country  humidity  temperature\n",
      "5  London  United Kingdom        88           12\n"
     ]
    }
   ],
   "source": [
    "for grpname, grpdata in grp:\n",
    "    print(grpname)\n",
    "    print(grpdata)"
   ]
  },
  {
   "cell_type": "markdown",
   "metadata": {},
   "source": [
    "If you look closely, after the groupby operation, the keys used for grouping has become the index of the resultant groupby object.\n",
    "\n",
    "This can be prevented by specifying *as_index=False*. If you see below, the key has been retained as a column and the index is defaulted to integer values."
   ]
  },
  {
   "cell_type": "code",
   "execution_count": 101,
   "metadata": {},
   "outputs": [
    {
     "data": {
      "text/html": [
       "<div>\n",
       "<style scoped>\n",
       "    .dataframe tbody tr th:only-of-type {\n",
       "        vertical-align: middle;\n",
       "    }\n",
       "\n",
       "    .dataframe tbody tr th {\n",
       "        vertical-align: top;\n",
       "    }\n",
       "\n",
       "    .dataframe thead th {\n",
       "        text-align: right;\n",
       "    }\n",
       "</style>\n",
       "<table border=\"1\" class=\"dataframe\">\n",
       "  <thead>\n",
       "    <tr style=\"text-align: right;\">\n",
       "      <th></th>\n",
       "      <th>country</th>\n",
       "      <th>temperature</th>\n",
       "    </tr>\n",
       "  </thead>\n",
       "  <tbody>\n",
       "    <tr>\n",
       "      <th>0</th>\n",
       "      <td>Brazil</td>\n",
       "      <td>14</td>\n",
       "    </tr>\n",
       "    <tr>\n",
       "      <th>1</th>\n",
       "      <td>Germany</td>\n",
       "      <td>15</td>\n",
       "    </tr>\n",
       "    <tr>\n",
       "      <th>2</th>\n",
       "      <td>India</td>\n",
       "      <td>29</td>\n",
       "    </tr>\n",
       "    <tr>\n",
       "      <th>3</th>\n",
       "      <td>North America</td>\n",
       "      <td>17</td>\n",
       "    </tr>\n",
       "    <tr>\n",
       "      <th>4</th>\n",
       "      <td>Poland</td>\n",
       "      <td>17</td>\n",
       "    </tr>\n",
       "    <tr>\n",
       "      <th>5</th>\n",
       "      <td>Russia</td>\n",
       "      <td>19</td>\n",
       "    </tr>\n",
       "    <tr>\n",
       "      <th>6</th>\n",
       "      <td>United Kingdom</td>\n",
       "      <td>12</td>\n",
       "    </tr>\n",
       "  </tbody>\n",
       "</table>\n",
       "</div>"
      ],
      "text/plain": [
       "          country  temperature\n",
       "0          Brazil           14\n",
       "1         Germany           15\n",
       "2           India           29\n",
       "3   North America           17\n",
       "4          Poland           17\n",
       "5          Russia           19\n",
       "6  United Kingdom           12"
      ]
     },
     "execution_count": 101,
     "metadata": {},
     "output_type": "execute_result"
    }
   ],
   "source": [
    "grp=df.groupby('country', as_index=False)\n",
    "\n",
    "grp['temperature'].min()"
   ]
  },
  {
   "cell_type": "markdown",
   "metadata": {},
   "source": [
    "## Selecting a non-Group By, non-Aggregated column from a grouped object"
   ]
  },
  {
   "cell_type": "markdown",
   "metadata": {},
   "source": [
    "Now, lets say, we want to find the city having lowest temperature for each country. \n",
    "\n",
    "This becomes a bit tricky in SQL, because, when we do a group by, it cannot contain a column that is not used for grouping or aggregation. city column is not used for grouping. Below SQL is not valid:\n",
    "\n",
    "**mysql> select country, city, min(temperature) from city_weather GROUP BY country;**\n",
    "ERROR 1055 (42000): Expression #2 of SELECT list is not in GROUP BY clause and contains nonaggregated column 'junkdb.city_weather.city' which is not functionally dependent on columns in GROUP BY clause; this is incompatible with sql_mode=only_full_group_by\n",
    "\n",
    "So, we will end up joining two SQLs as shown below:\n",
    "\n",
    "select A.country,A.city,A.temperature \n",
    "from city_weather A, \n",
    "(select country,min(temperature) as mintemp from city_weather group by country) B \n",
    "where A.country = B.country \n",
    "and A.temperature = B.mintemp;\n",
    "\n",
    "Here, we calculate the minimum temperature per country in one query (alias B), and join it with the full table (alias A) on country and minimum temperature. Records whose temperature values matching minimum temperature under the given country group will get returned: "
   ]
  },
  {
   "cell_type": "code",
   "execution_count": null,
   "metadata": {},
   "outputs": [],
   "source": [
    "mysql> select A.country,A.city,A.humidity,A.temperature from city_weather A, \n",
    "(select country,min(temperature) as mintemp from city_weather group by country)B \n",
    "where A.country = B.country and A.temperature = B.mintemp;\n",
    "+----------------+-----------+----------+-------------+\n",
    "| country        | city      | humidity | temperature |\n",
    "+----------------+-----------+----------+-------------+\n",
    "| India          | Bangalore |       63 |          29 |\n",
    "| North America  | Chicago   |       69 |          17 |\n",
    "| United Kingdom | London    |       88 |          12 |\n",
    "| Russia         | Moscow    |       56 |          19 |\n",
    "| Brazil         | Sao Paulo |       85 |          14 |\n",
    "| Germany        | Munich    |       90 |          15 |\n",
    "| Poland         | Warsaw    |       66 |          17 |\n",
    "+----------------+-----------+----------+-------------+\n",
    "7 rows in set (0.00 sec)"
   ]
  },
  {
   "cell_type": "markdown",
   "metadata": {},
   "source": [
    "How do we do it in pandas ?\n",
    "\n",
    "Well, its not that complicated. Unlike SQL, individual groups in the DataFrameGroupBy object contains the full record. So, we can retrieve any column value from the group. \n",
    "\n",
    "The *idxmin()* function of a dataframe, when invoked on a column, returns the index (row label) of the row having minimum value of the column. In this case, we can apply the idxmin() function on the temperature column of the grouped dataframe. \n",
    "\n",
    "The index values thus obtained, can be used to retrieve the complete row."
   ]
  },
  {
   "cell_type": "code",
   "execution_count": 119,
   "metadata": {},
   "outputs": [
    {
     "data": {
      "text/plain": [
       "country\n",
       "Brazil             8\n",
       "Germany           12\n",
       "India              1\n",
       "North America      4\n",
       "Poland            13\n",
       "Russia             6\n",
       "United Kingdom     5\n",
       "Name: temperature, dtype: int64"
      ]
     },
     "execution_count": 119,
     "metadata": {},
     "output_type": "execute_result"
    }
   ],
   "source": [
    "df.groupby('country')['temperature'].idxmin()"
   ]
  },
  {
   "cell_type": "markdown",
   "metadata": {},
   "source": [
    "Now use the .loc[] on the original data frame, with the set of indices obtained from idxmin() function."
   ]
  },
  {
   "cell_type": "code",
   "execution_count": 120,
   "metadata": {},
   "outputs": [
    {
     "data": {
      "text/html": [
       "<div>\n",
       "<style scoped>\n",
       "    .dataframe tbody tr th:only-of-type {\n",
       "        vertical-align: middle;\n",
       "    }\n",
       "\n",
       "    .dataframe tbody tr th {\n",
       "        vertical-align: top;\n",
       "    }\n",
       "\n",
       "    .dataframe thead th {\n",
       "        text-align: right;\n",
       "    }\n",
       "</style>\n",
       "<table border=\"1\" class=\"dataframe\">\n",
       "  <thead>\n",
       "    <tr style=\"text-align: right;\">\n",
       "      <th></th>\n",
       "      <th>city</th>\n",
       "      <th>country</th>\n",
       "      <th>humidity</th>\n",
       "      <th>temperature</th>\n",
       "    </tr>\n",
       "  </thead>\n",
       "  <tbody>\n",
       "    <tr>\n",
       "      <th>8</th>\n",
       "      <td>Sao Paulo</td>\n",
       "      <td>Brazil</td>\n",
       "      <td>85</td>\n",
       "      <td>14</td>\n",
       "    </tr>\n",
       "    <tr>\n",
       "      <th>12</th>\n",
       "      <td>Munich</td>\n",
       "      <td>Germany</td>\n",
       "      <td>90</td>\n",
       "      <td>15</td>\n",
       "    </tr>\n",
       "    <tr>\n",
       "      <th>1</th>\n",
       "      <td>Bangalore</td>\n",
       "      <td>India</td>\n",
       "      <td>63</td>\n",
       "      <td>29</td>\n",
       "    </tr>\n",
       "    <tr>\n",
       "      <th>4</th>\n",
       "      <td>Chicago</td>\n",
       "      <td>North America</td>\n",
       "      <td>69</td>\n",
       "      <td>17</td>\n",
       "    </tr>\n",
       "    <tr>\n",
       "      <th>13</th>\n",
       "      <td>Warsaw</td>\n",
       "      <td>Poland</td>\n",
       "      <td>66</td>\n",
       "      <td>17</td>\n",
       "    </tr>\n",
       "    <tr>\n",
       "      <th>6</th>\n",
       "      <td>Moscow</td>\n",
       "      <td>Russia</td>\n",
       "      <td>56</td>\n",
       "      <td>19</td>\n",
       "    </tr>\n",
       "    <tr>\n",
       "      <th>5</th>\n",
       "      <td>London</td>\n",
       "      <td>United Kingdom</td>\n",
       "      <td>88</td>\n",
       "      <td>12</td>\n",
       "    </tr>\n",
       "  </tbody>\n",
       "</table>\n",
       "</div>"
      ],
      "text/plain": [
       "         city         country  humidity  temperature\n",
       "8   Sao Paulo          Brazil        85           14\n",
       "12     Munich         Germany        90           15\n",
       "1   Bangalore           India        63           29\n",
       "4     Chicago   North America        69           17\n",
       "13     Warsaw          Poland        66           17\n",
       "6      Moscow          Russia        56           19\n",
       "5      London  United Kingdom        88           12"
      ]
     },
     "execution_count": 120,
     "metadata": {},
     "output_type": "execute_result"
    }
   ],
   "source": [
    "df.loc[df.groupby('country')['temperature'].idxmin()]"
   ]
  },
  {
   "cell_type": "markdown",
   "metadata": {},
   "source": [
    "## Counting records within groups"
   ]
  },
  {
   "cell_type": "code",
   "execution_count": null,
   "metadata": {},
   "outputs": [],
   "source": [
    "How do we count cities under each country ?"
   ]
  },
  {
   "cell_type": "markdown",
   "metadata": {},
   "source": [
    "In SQL, this is a straight forward query:"
   ]
  },
  {
   "cell_type": "code",
   "execution_count": null,
   "metadata": {},
   "outputs": [],
   "source": [
    "mysql> select country,count(*) from city_weather group by country;                                                     +----------------+----------+\n",
    "| country        | count(*) |\n",
    "+----------------+----------+\n",
    "| Brazil         |        2 |\n",
    "| Germany        |        3 |\n",
    "| India          |        3 |\n",
    "| North America  |        2 |\n",
    "| Poland         |        1 |\n",
    "| Russia         |        2 |\n",
    "| United Kingdom |        1 |\n",
    "+----------------+----------+\n",
    "7 rows in set (0.00 sec)"
   ]
  },
  {
   "cell_type": "markdown",
   "metadata": {},
   "source": [
    "Here the *count()* returns the count of records under each group (country). The argument inside the *count()* function does not have any meaning here. You use a column name or a constant value as an argument.\n",
    "\n",
    "How do we do it in pandas ? "
   ]
  },
  {
   "cell_type": "code",
   "execution_count": 124,
   "metadata": {},
   "outputs": [
    {
     "data": {
      "text/plain": [
       "country\n",
       "Brazil            2\n",
       "Germany           3\n",
       "India             3\n",
       "North America     2\n",
       "Poland            1\n",
       "Russia            2\n",
       "United Kingdom    1\n",
       "Name: city, dtype: int64"
      ]
     },
     "execution_count": 124,
     "metadata": {},
     "output_type": "execute_result"
    }
   ],
   "source": [
    "df.groupby('country')['city'].count()\n",
    "#df.groupby('country', as_index=False)['city'].count()"
   ]
  },
  {
   "cell_type": "markdown",
   "metadata": {},
   "source": [
    "In SQL world, the same query can be used irrespective of the number of columns that you want to use in group by. Just need to add the column to the group by clause as well as the select clause. count(*) function does not require a column to count records.\n",
    "\n",
    "In pandas, the count() function requires atleast one column that does not take part in the grouping operation, to count. This gets a little tricky, when you want to group by all columns in a dataframe. See the example below:"
   ]
  },
  {
   "cell_type": "code",
   "execution_count": 126,
   "metadata": {},
   "outputs": [
    {
     "data": {
      "text/html": [
       "<div>\n",
       "<style scoped>\n",
       "    .dataframe tbody tr th:only-of-type {\n",
       "        vertical-align: middle;\n",
       "    }\n",
       "\n",
       "    .dataframe tbody tr th {\n",
       "        vertical-align: top;\n",
       "    }\n",
       "\n",
       "    .dataframe thead th {\n",
       "        text-align: right;\n",
       "    }\n",
       "</style>\n",
       "<table border=\"1\" class=\"dataframe\">\n",
       "  <thead>\n",
       "    <tr style=\"text-align: right;\">\n",
       "      <th></th>\n",
       "      <th>body-style</th>\n",
       "      <th>make</th>\n",
       "    </tr>\n",
       "  </thead>\n",
       "  <tbody>\n",
       "    <tr>\n",
       "      <th>0</th>\n",
       "      <td>convertible</td>\n",
       "      <td>alfa-romeo</td>\n",
       "    </tr>\n",
       "    <tr>\n",
       "      <th>1</th>\n",
       "      <td>convertible</td>\n",
       "      <td>alfa-romeo</td>\n",
       "    </tr>\n",
       "    <tr>\n",
       "      <th>2</th>\n",
       "      <td>hatchback</td>\n",
       "      <td>alfa-romeo</td>\n",
       "    </tr>\n",
       "    <tr>\n",
       "      <th>3</th>\n",
       "      <td>sedan</td>\n",
       "      <td>audi</td>\n",
       "    </tr>\n",
       "    <tr>\n",
       "      <th>4</th>\n",
       "      <td>sedan</td>\n",
       "      <td>audi</td>\n",
       "    </tr>\n",
       "  </tbody>\n",
       "</table>\n",
       "</div>"
      ],
      "text/plain": [
       "    body-style        make\n",
       "0  convertible  alfa-romeo\n",
       "1  convertible  alfa-romeo\n",
       "2    hatchback  alfa-romeo\n",
       "3        sedan        audi\n",
       "4        sedan        audi"
      ]
     },
     "execution_count": 126,
     "metadata": {},
     "output_type": "execute_result"
    }
   ],
   "source": [
    "df = pd.DataFrame({'make':['alfa-romeo','alfa-romeo','alfa-romeo','audi','audi'], 'body-style':['convertible','convertible','hatchback','sedan','sedan']})\n",
    "\n",
    "df"
   ]
  },
  {
   "cell_type": "markdown",
   "metadata": {},
   "source": [
    "Now, I want to find the counts of each combination. It is a group by on mutiple columns. My output must look like: "
   ]
  },
  {
   "cell_type": "code",
   "execution_count": null,
   "metadata": {},
   "outputs": [],
   "source": [
    "             make   body-style   count\n",
    "0     alfa-romero  convertible       2\n",
    "1     alfa-romero    hatchback       1\n",
    "2            audi    sedan           2"
   ]
  },
  {
   "cell_type": "markdown",
   "metadata": {},
   "source": [
    "If we do as shown below, then there are no columns left to count. So there wont be any count atall."
   ]
  },
  {
   "cell_type": "code",
   "execution_count": 128,
   "metadata": {},
   "outputs": [
    {
     "data": {
      "text/html": [
       "<div>\n",
       "<style scoped>\n",
       "    .dataframe tbody tr th:only-of-type {\n",
       "        vertical-align: middle;\n",
       "    }\n",
       "\n",
       "    .dataframe tbody tr th {\n",
       "        vertical-align: top;\n",
       "    }\n",
       "\n",
       "    .dataframe thead th {\n",
       "        text-align: right;\n",
       "    }\n",
       "</style>\n",
       "<table border=\"1\" class=\"dataframe\">\n",
       "  <thead>\n",
       "    <tr style=\"text-align: right;\">\n",
       "      <th></th>\n",
       "      <th></th>\n",
       "    </tr>\n",
       "    <tr>\n",
       "      <th>make</th>\n",
       "      <th>body-style</th>\n",
       "    </tr>\n",
       "  </thead>\n",
       "  <tbody>\n",
       "    <tr>\n",
       "      <th rowspan=\"2\" valign=\"top\">alfa-romeo</th>\n",
       "      <th>convertible</th>\n",
       "    </tr>\n",
       "    <tr>\n",
       "      <th>hatchback</th>\n",
       "    </tr>\n",
       "    <tr>\n",
       "      <th>audi</th>\n",
       "      <th>sedan</th>\n",
       "    </tr>\n",
       "  </tbody>\n",
       "</table>\n",
       "</div>"
      ],
      "text/plain": [
       "Empty DataFrame\n",
       "Columns: []\n",
       "Index: [(alfa-romeo, convertible), (alfa-romeo, hatchback), (audi, sedan)]"
      ]
     },
     "execution_count": 128,
     "metadata": {},
     "output_type": "execute_result"
    }
   ],
   "source": [
    "df.groupby(by=['make','body-style']).count()\n",
    "#df.groupby(by=['make','body-style'], as_index=False).count()"
   ]
  },
  {
   "cell_type": "markdown",
   "metadata": {},
   "source": [
    "In such scenarios, we must use the size() function on each group. \n",
    "\n",
    "Caveat:\n",
    "while .count() is an aggregation function, .size() is not. It will not skip NaN values as .count() does. So we have to be careful while using size()."
   ]
  },
  {
   "cell_type": "code",
   "execution_count": 148,
   "metadata": {},
   "outputs": [
    {
     "data": {
      "text/plain": [
       "make        body-style \n",
       "alfa-romeo  convertible    2\n",
       "            hatchback      1\n",
       "audi        sedan          2\n",
       "dtype: int64"
      ]
     },
     "execution_count": 148,
     "metadata": {},
     "output_type": "execute_result"
    }
   ],
   "source": [
    "df.groupby(by=['make','body-style'], as_index=False).size()"
   ]
  },
  {
   "cell_type": "markdown",
   "metadata": {},
   "source": [
    "If you want to assign a name to the count column, assign it to the name variable and then reset_index"
   ]
  },
  {
   "cell_type": "code",
   "execution_count": 150,
   "metadata": {},
   "outputs": [
    {
     "data": {
      "text/html": [
       "<div>\n",
       "<style scoped>\n",
       "    .dataframe tbody tr th:only-of-type {\n",
       "        vertical-align: middle;\n",
       "    }\n",
       "\n",
       "    .dataframe tbody tr th {\n",
       "        vertical-align: top;\n",
       "    }\n",
       "\n",
       "    .dataframe thead th {\n",
       "        text-align: right;\n",
       "    }\n",
       "</style>\n",
       "<table border=\"1\" class=\"dataframe\">\n",
       "  <thead>\n",
       "    <tr style=\"text-align: right;\">\n",
       "      <th></th>\n",
       "      <th>make</th>\n",
       "      <th>body-style</th>\n",
       "      <th>city_count</th>\n",
       "    </tr>\n",
       "  </thead>\n",
       "  <tbody>\n",
       "    <tr>\n",
       "      <th>0</th>\n",
       "      <td>alfa-romeo</td>\n",
       "      <td>convertible</td>\n",
       "      <td>2</td>\n",
       "    </tr>\n",
       "    <tr>\n",
       "      <th>1</th>\n",
       "      <td>alfa-romeo</td>\n",
       "      <td>hatchback</td>\n",
       "      <td>1</td>\n",
       "    </tr>\n",
       "    <tr>\n",
       "      <th>2</th>\n",
       "      <td>audi</td>\n",
       "      <td>sedan</td>\n",
       "      <td>2</td>\n",
       "    </tr>\n",
       "  </tbody>\n",
       "</table>\n",
       "</div>"
      ],
      "text/plain": [
       "         make   body-style  city_count\n",
       "0  alfa-romeo  convertible           2\n",
       "1  alfa-romeo    hatchback           1\n",
       "2        audi        sedan           2"
      ]
     },
     "execution_count": 150,
     "metadata": {},
     "output_type": "execute_result"
    }
   ],
   "source": [
    "c=df.groupby(by=['make','body-style'], as_index=False).size()\n",
    "c.name=\"city_count\"\n",
    "c=c.reset_index()\n",
    "c"
   ]
  },
  {
   "cell_type": "markdown",
   "metadata": {},
   "source": [
    "## SQL HAVING clause and Pandas"
   ]
  },
  {
   "cell_type": "markdown",
   "metadata": {},
   "source": [
    "In SQL, a HAVING clause is used to filter records after a GROUP BY is applied. \n",
    "See the below example:"
   ]
  },
  {
   "cell_type": "code",
   "execution_count": null,
   "metadata": {},
   "outputs": [],
   "source": [
    "mysql> select country, min(temperature) as mintemp from city_weather GROUP BY country HAVING mintemp < 15;\n",
    "+----------------+---------+\n",
    "| country        | mintemp |\n",
    "+----------------+---------+\n",
    "| Brazil         |      14 |\n",
    "| United Kingdom |      12 |\n",
    "+----------------+---------+\n",
    "2 rows in set (0.00 sec)"
   ]
  },
  {
   "cell_type": "markdown",
   "metadata": {},
   "source": [
    "When the HAVING clause is applied on a GROUP BY, it discards grouped records that do not satisfy the criteria - mintemp < 15.\n",
    "\n",
    "Now, Lets see the equivalent of HAVING clause in pandas dataframe.\n"
   ]
  },
  {
   "cell_type": "code",
   "execution_count": 14,
   "metadata": {},
   "outputs": [
    {
     "data": {
      "text/html": [
       "<div>\n",
       "<style scoped>\n",
       "    .dataframe tbody tr th:only-of-type {\n",
       "        vertical-align: middle;\n",
       "    }\n",
       "\n",
       "    .dataframe tbody tr th {\n",
       "        vertical-align: top;\n",
       "    }\n",
       "\n",
       "    .dataframe thead th {\n",
       "        text-align: right;\n",
       "    }\n",
       "</style>\n",
       "<table border=\"1\" class=\"dataframe\">\n",
       "  <thead>\n",
       "    <tr style=\"text-align: right;\">\n",
       "      <th></th>\n",
       "      <th>country</th>\n",
       "      <th>temperature</th>\n",
       "    </tr>\n",
       "  </thead>\n",
       "  <tbody>\n",
       "    <tr>\n",
       "      <th>0</th>\n",
       "      <td>Brazil</td>\n",
       "      <td>14</td>\n",
       "    </tr>\n",
       "    <tr>\n",
       "      <th>1</th>\n",
       "      <td>Germany</td>\n",
       "      <td>15</td>\n",
       "    </tr>\n",
       "    <tr>\n",
       "      <th>2</th>\n",
       "      <td>India</td>\n",
       "      <td>29</td>\n",
       "    </tr>\n",
       "    <tr>\n",
       "      <th>3</th>\n",
       "      <td>North America</td>\n",
       "      <td>17</td>\n",
       "    </tr>\n",
       "    <tr>\n",
       "      <th>4</th>\n",
       "      <td>Poland</td>\n",
       "      <td>17</td>\n",
       "    </tr>\n",
       "    <tr>\n",
       "      <th>5</th>\n",
       "      <td>Russia</td>\n",
       "      <td>19</td>\n",
       "    </tr>\n",
       "    <tr>\n",
       "      <th>6</th>\n",
       "      <td>United Kingdom</td>\n",
       "      <td>12</td>\n",
       "    </tr>\n",
       "  </tbody>\n",
       "</table>\n",
       "</div>"
      ],
      "text/plain": [
       "          country  temperature\n",
       "0          Brazil           14\n",
       "1         Germany           15\n",
       "2           India           29\n",
       "3   North America           17\n",
       "4          Poland           17\n",
       "5          Russia           19\n",
       "6  United Kingdom           12"
      ]
     },
     "execution_count": 14,
     "metadata": {},
     "output_type": "execute_result"
    }
   ],
   "source": [
    "grp=df.groupby('country', as_index=False)['temperature'].min()\n",
    "grp"
   ]
  },
  {
   "cell_type": "markdown",
   "metadata": {},
   "source": [
    "We prepare DataFrameGroupBy object as we did before. So we got country-wise minimum temperatures. Now, to mimic a HAVING clause, we must do a filter on the grp object. "
   ]
  },
  {
   "cell_type": "code",
   "execution_count": 13,
   "metadata": {},
   "outputs": [
    {
     "data": {
      "text/html": [
       "<div>\n",
       "<style scoped>\n",
       "    .dataframe tbody tr th:only-of-type {\n",
       "        vertical-align: middle;\n",
       "    }\n",
       "\n",
       "    .dataframe tbody tr th {\n",
       "        vertical-align: top;\n",
       "    }\n",
       "\n",
       "    .dataframe thead th {\n",
       "        text-align: right;\n",
       "    }\n",
       "</style>\n",
       "<table border=\"1\" class=\"dataframe\">\n",
       "  <thead>\n",
       "    <tr style=\"text-align: right;\">\n",
       "      <th></th>\n",
       "      <th>country</th>\n",
       "      <th>temperature</th>\n",
       "    </tr>\n",
       "  </thead>\n",
       "  <tbody>\n",
       "    <tr>\n",
       "      <th>0</th>\n",
       "      <td>Brazil</td>\n",
       "      <td>14</td>\n",
       "    </tr>\n",
       "    <tr>\n",
       "      <th>6</th>\n",
       "      <td>United Kingdom</td>\n",
       "      <td>12</td>\n",
       "    </tr>\n",
       "  </tbody>\n",
       "</table>\n",
       "</div>"
      ],
      "text/plain": [
       "          country  temperature\n",
       "0          Brazil           14\n",
       "6  United Kingdom           12"
      ]
     },
     "execution_count": 13,
     "metadata": {},
     "output_type": "execute_result"
    }
   ],
   "source": [
    "grp[grp['temperature'] < 15]"
   ]
  },
  {
   "cell_type": "code",
   "execution_count": null,
   "metadata": {},
   "outputs": [],
   "source": [
    "There we have it. "
   ]
  }
 ],
 "metadata": {
  "kernelspec": {
   "display_name": "Python 3",
   "language": "python",
   "name": "python3"
  },
  "language_info": {
   "codemirror_mode": {
    "name": "ipython",
    "version": 3
   },
   "file_extension": ".py",
   "mimetype": "text/x-python",
   "name": "python",
   "nbconvert_exporter": "python",
   "pygments_lexer": "ipython3",
   "version": "3.6.4"
  }
 },
 "nbformat": 4,
 "nbformat_minor": 2
}
